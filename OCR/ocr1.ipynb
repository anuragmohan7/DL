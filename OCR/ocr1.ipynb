{
 "cells": [
  {
   "cell_type": "code",
   "execution_count": 1,
   "id": "a22e0bc8",
   "metadata": {},
   "outputs": [],
   "source": [
    "#OCR used to extract text from image,video,pdf etc.\n",
    "#   their are many OCR, we use tesseract ocr\n",
    "#   --> install tesseract OCR\n",
    "#   --> pytesseract, install using command\n",
    "#                       pip install pytesseract"
   ]
  },
  {
   "cell_type": "code",
   "execution_count": 2,
   "id": "211c8394",
   "metadata": {},
   "outputs": [],
   "source": [
    "import cv2\n",
    "import pytesseract"
   ]
  },
  {
   "cell_type": "code",
   "execution_count": 3,
   "id": "f052d70e",
   "metadata": {},
   "outputs": [],
   "source": [
    "# set path of tesseract OCR (only in windows)\n",
    "pytesseract.pytesseract.tesseract_cmd=r'C:\\Users\\ASUS\\Documents\\ocr install\\tesseract.exe'"
   ]
  },
  {
   "cell_type": "code",
   "execution_count": 4,
   "id": "64683940",
   "metadata": {},
   "outputs": [
    {
     "data": {
      "text/plain": [
       "array([[[ 6,  5,  1],\n",
       "        [ 6,  5,  1],\n",
       "        [ 6,  5,  1],\n",
       "        ...,\n",
       "        [ 9,  4,  1],\n",
       "        [ 9,  4,  1],\n",
       "        [ 9,  4,  1]],\n",
       "\n",
       "       [[ 6,  5,  1],\n",
       "        [ 6,  5,  1],\n",
       "        [ 6,  5,  1],\n",
       "        ...,\n",
       "        [ 9,  4,  1],\n",
       "        [ 9,  4,  1],\n",
       "        [ 9,  4,  1]],\n",
       "\n",
       "       [[ 6,  5,  1],\n",
       "        [ 6,  5,  1],\n",
       "        [ 6,  5,  1],\n",
       "        ...,\n",
       "        [ 9,  4,  1],\n",
       "        [ 9,  4,  1],\n",
       "        [ 9,  4,  1]],\n",
       "\n",
       "       ...,\n",
       "\n",
       "       [[ 8,  3,  0],\n",
       "        [ 8,  3,  0],\n",
       "        [ 9,  4,  1],\n",
       "        ...,\n",
       "        [12,  7,  4],\n",
       "        [12,  7,  4],\n",
       "        [12,  7,  4]],\n",
       "\n",
       "       [[ 8,  3,  0],\n",
       "        [ 8,  3,  0],\n",
       "        [ 9,  4,  1],\n",
       "        ...,\n",
       "        [12,  7,  4],\n",
       "        [12,  7,  4],\n",
       "        [12,  7,  4]],\n",
       "\n",
       "       [[ 8,  3,  0],\n",
       "        [ 8,  3,  0],\n",
       "        [ 9,  4,  1],\n",
       "        ...,\n",
       "        [12,  7,  4],\n",
       "        [12,  7,  4],\n",
       "        [12,  7,  4]]], shape=(173, 291, 3), dtype=uint8)"
      ]
     },
     "execution_count": 4,
     "metadata": {},
     "output_type": "execute_result"
    }
   ],
   "source": [
    "img=cv2.imread('image1.jpeg')\n",
    "img"
   ]
  },
  {
   "cell_type": "code",
   "execution_count": 5,
   "id": "f33bf2ee",
   "metadata": {},
   "outputs": [],
   "source": [
    "cv2.imshow(\"image\",img)\n",
    "cv2.waitKey(5000)\n",
    "cv2.destroyAllWindows()"
   ]
  },
  {
   "cell_type": "code",
   "execution_count": 6,
   "id": "57f40de0",
   "metadata": {},
   "outputs": [
    {
     "name": "stdout",
     "output_type": "stream",
     "text": [
      "MoonShine\n",
      "\n"
     ]
    }
   ],
   "source": [
    "# extracting text\n",
    "text=pytesseract.image_to_string(img)\n",
    "print(text)"
   ]
  },
  {
   "cell_type": "code",
   "execution_count": 7,
   "id": "c4b5ca1f",
   "metadata": {},
   "outputs": [
    {
     "data": {
      "text/plain": [
       "{'level': [1, 2, 3, 4, 5],\n",
       " 'page_num': [1, 1, 1, 1, 1],\n",
       " 'block_num': [0, 1, 1, 1, 1],\n",
       " 'par_num': [0, 0, 1, 1, 1],\n",
       " 'line_num': [0, 0, 0, 1, 1],\n",
       " 'word_num': [0, 0, 0, 0, 1],\n",
       " 'left': [0, 43, 43, 43, 43],\n",
       " 'top': [0, 75, 75, 75, 75],\n",
       " 'width': [291, 210, 210, 210, 210],\n",
       " 'height': [173, 32, 32, 32, 32],\n",
       " 'conf': [-1, -1, -1, -1, 91],\n",
       " 'text': ['', '', '', '', 'MoonShine']}"
      ]
     },
     "execution_count": 7,
     "metadata": {},
     "output_type": "execute_result"
    }
   ],
   "source": [
    "# extracting data from image\n",
    "data=pytesseract.image_to_data(img,output_type=pytesseract.Output.DICT)\n",
    "data"
   ]
  },
  {
   "cell_type": "code",
   "execution_count": 8,
   "id": "fe9e2d87",
   "metadata": {},
   "outputs": [],
   "source": [
    "x,y,w,h=43,75,210,32\n",
    "cv2.rectangle(img,(x,y),(x+w,y+h),(0,0,225),3)\n",
    "cv2.imshow(\"image1\",img)\n",
    "cv2.waitKey(5000)\n",
    "cv2.destroyAllWindows()"
   ]
  },
  {
   "cell_type": "code",
   "execution_count": null,
   "id": "136cccf9",
   "metadata": {},
   "outputs": [],
   "source": []
  }
 ],
 "metadata": {
  "kernelspec": {
   "display_name": "Python 3",
   "language": "python",
   "name": "python3"
  },
  "language_info": {
   "codemirror_mode": {
    "name": "ipython",
    "version": 3
   },
   "file_extension": ".py",
   "mimetype": "text/x-python",
   "name": "python",
   "nbconvert_exporter": "python",
   "pygments_lexer": "ipython3",
   "version": "3.12.6"
  }
 },
 "nbformat": 4,
 "nbformat_minor": 5
}
