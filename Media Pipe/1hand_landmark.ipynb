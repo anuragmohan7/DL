{
 "cells": [
  {
   "cell_type": "code",
   "execution_count": 1,
   "id": "0c6e19bd",
   "metadata": {},
   "outputs": [],
   "source": [
    "# install mediapipe"
   ]
  },
  {
   "cell_type": "code",
   "execution_count": 2,
   "id": "6101ed37",
   "metadata": {},
   "outputs": [],
   "source": [
    "import cv2\n",
    "import mediapipe as mp"
   ]
  },
  {
   "cell_type": "code",
   "execution_count": 3,
   "id": "2eb0a788",
   "metadata": {},
   "outputs": [],
   "source": [
    "#modules\n",
    "mphands=mp.solutions.hands #detect hand landmark\n",
    "mp_drawing=mp.solutions.drawing_utils # inorder to connect each other"
   ]
  },
  {
   "cell_type": "code",
   "execution_count": 4,
   "id": "2e597a95",
   "metadata": {},
   "outputs": [],
   "source": [
    "Hand=mphands.Hands() #we should use function for hand landmark"
   ]
  },
  {
   "cell_type": "code",
   "execution_count": null,
   "id": "1e342bb7",
   "metadata": {},
   "outputs": [],
   "source": []
  },
  {
   "cell_type": "code",
   "execution_count": 5,
   "id": "e0f96e0c",
   "metadata": {},
   "outputs": [],
   "source": [
    "# live video code\n",
    "\n",
    "Video = cv2.VideoCapture(0)\n",
    "\n",
    "while True:\n",
    "    success, image = Video.read()\n",
    "    if not success:\n",
    "        break\n",
    "\n",
    "    conv_img = cv2.cvtColor(image, cv2.COLOR_BGR2RGB)\n",
    "    result=Hand.process(conv_img)\n",
    "    # print(result)\n",
    "    # print(result.multi_hand_landmarks) # multi_hand_landmarks ==> used to detect hand landmark\n",
    "    if result.multi_hand_landmarks:   # if hand mark detected is true\n",
    "        for hand_landmarks in result.multi_hand_landmarks:   # this step is used to display landmark in screen\n",
    "            mp_drawing.draw_landmarks(image,hand_landmarks,mphands.HAND_CONNECTIONS,mp_drawing.DrawingSpec(color=(0,0,225),thickness=2,circle_radius=2),mp_drawing.DrawingSpec(color=(0,255,0),thickness=2))  # ,mphands.HAND_CONNECTIONS ==> used to connect points,      mp_drawing.DrawingSpec(color=(0,0,225),thickness=2,circle_radius=2 ==> this step is not neceesary\n",
    "            \n",
    "            \n",
    "\n",
    "\n",
    "\n",
    "\n",
    "    cv2.imshow(\"Image\", image)\n",
    "\n",
    "    if cv2.waitKey(1) & 0xFF == ord('q'):\n",
    "        break\n",
    "\n",
    "Video.release()\n",
    "cv2.destroyAllWindows()"
   ]
  },
  {
   "cell_type": "code",
   "execution_count": null,
   "id": "36fd2da0",
   "metadata": {},
   "outputs": [],
   "source": []
  },
  {
   "cell_type": "code",
   "execution_count": null,
   "id": "ee3dc004",
   "metadata": {},
   "outputs": [],
   "source": []
  },
  {
   "cell_type": "code",
   "execution_count": null,
   "id": "5d103297",
   "metadata": {},
   "outputs": [],
   "source": []
  },
  {
   "cell_type": "code",
   "execution_count": null,
   "id": "de83f9fe",
   "metadata": {},
   "outputs": [
    {
     "name": "stdout",
     "output_type": "stream",
     "text": [
      "[(0, 'apple'), (1, 'orange'), (2, 'grape')]\n"
     ]
    }
   ],
   "source": [
    "# what is enumerate function ==> it is used to extract index and value  (this is used for later project)\n",
    "\n",
    "lst=['apple','orange','grape']\n",
    "print(list(enumerate(lst)))"
   ]
  },
  {
   "cell_type": "code",
   "execution_count": 8,
   "id": "1f1c3699",
   "metadata": {},
   "outputs": [
    {
     "name": "stdout",
     "output_type": "stream",
     "text": [
      "apple\n",
      "0\n",
      "orange\n",
      "1\n",
      "grape\n",
      "2\n"
     ]
    }
   ],
   "source": [
    "for id,fruit in list(enumerate(lst)):\n",
    "    print(fruit)\n",
    "    print(id)"
   ]
  }
 ],
 "metadata": {
  "kernelspec": {
   "display_name": "Python 3",
   "language": "python",
   "name": "python3"
  },
  "language_info": {
   "codemirror_mode": {
    "name": "ipython",
    "version": 3
   },
   "file_extension": ".py",
   "mimetype": "text/x-python",
   "name": "python",
   "nbconvert_exporter": "python",
   "pygments_lexer": "ipython3",
   "version": "3.8.0"
  }
 },
 "nbformat": 4,
 "nbformat_minor": 5
}
