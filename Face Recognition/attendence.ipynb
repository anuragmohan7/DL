{
 "cells": [
  {
   "cell_type": "code",
   "execution_count": 19,
   "id": "1cf47f24",
   "metadata": {},
   "outputs": [],
   "source": [
    "import csv\n",
    "import numpy as np\n",
    "import cv2\n",
    "import face_recognition as fr\n",
    "import os\n",
    "from datetime import datetime\n",
    "\n"
   ]
  },
  {
   "cell_type": "code",
   "execution_count": 20,
   "id": "bf100926",
   "metadata": {},
   "outputs": [],
   "source": [
    "path=\"images\" # now images are in path"
   ]
  },
  {
   "cell_type": "code",
   "execution_count": 21,
   "id": "489fddfb",
   "metadata": {},
   "outputs": [
    {
     "data": {
      "text/plain": [
       "['dhoni.jpg', 'mamooty.jpg', 'mohanlal.jpg', 'ronaldo.jpeg', 'sachin.jpeg']"
      ]
     },
     "execution_count": 21,
     "metadata": {},
     "output_type": "execute_result"
    }
   ],
   "source": [
    "mylist=os.listdir(path)\n",
    "mylist"
   ]
  },
  {
   "cell_type": "code",
   "execution_count": 22,
   "id": "32cdeec3",
   "metadata": {},
   "outputs": [],
   "source": [
    "imgs=[]  # for input\n",
    "classname=[] #for output\n",
    "for img in mylist:\n",
    "    imgpath=os.path.join(path,img) # extracting path of each image\n",
    "    # print(imgpath)\n",
    "    current_img=cv2.imread(imgpath) # reading each image\n",
    "    # print(current_img)\n",
    "    imgs.append(current_img) #addimg images to input\n",
    "    classname.append(img.split(\".\")[0]) # extracting only name from imgs by removing .jpeg,.jpg and append to output\n"
   ]
  },
  {
   "cell_type": "code",
   "execution_count": 23,
   "id": "1923c239",
   "metadata": {},
   "outputs": [],
   "source": [
    "def faceencoding(images):\n",
    "    encodelist=[]\n",
    "    for img in images:\n",
    "        face_in_frame=fr.face_locations(img)\n",
    "        encode=fr.face_encodings(img,face_in_frame)[0]\n",
    "        encodelist.append(encode)\n",
    "    return encodelist"
   ]
  },
  {
   "cell_type": "code",
   "execution_count": 24,
   "id": "9057e880",
   "metadata": {},
   "outputs": [],
   "source": [
    "encode_list_known=faceencoding(imgs) #now all images are encoded\n"
   ]
  },
  {
   "cell_type": "code",
   "execution_count": 25,
   "id": "7764d3b5",
   "metadata": {},
   "outputs": [
    {
     "name": "stdout",
     "output_type": "stream",
     "text": [
      "Recognized people in this session: {('ronaldo', '2025-06-18 19:49:21'), ('ronaldo', '2025-06-18 19:49:22'), ('ronaldo', '2025-06-18 19:49:24'), ('ronaldo', '2025-06-18 19:49:23'), ('ronaldo', '2025-06-18 19:49:20')}\n"
     ]
    }
   ],
   "source": [
    "\n",
    "\n",
    "data_set = set()\n",
    "\n",
    "Video = cv2.VideoCapture(0)\n",
    "\n",
    "while True:\n",
    "    success, image = Video.read()\n",
    "    if not success:\n",
    "        break\n",
    "\n",
    "    conv_img1 = cv2.cvtColor(image, cv2.COLOR_BGR2RGB)\n",
    "    face_in_frame = fr.face_locations(conv_img1)\n",
    "    face_encoded = fr.face_encodings(conv_img1, face_in_frame)\n",
    "\n",
    "    for enc_face, faceloc in zip(face_encoded, face_in_frame):\n",
    "        matches = fr.compare_faces(encode_list_known, enc_face)\n",
    "        face_dis = fr.face_distance(encode_list_known, enc_face)\n",
    "\n",
    "        matchindex = np.argmin(face_dis)\n",
    "        if matches[matchindex]:\n",
    "            name = classname[matchindex]\n",
    "            \n",
    "            current_time = datetime.now().strftime(\"%Y-%m-%d %H:%M:%S\") # read current time\n",
    "\n",
    "\n",
    "            data_set.add((name,current_time))\n",
    "        else:\n",
    "            name = \"unknown\"\n",
    "\n",
    "        y1, x2, y2, x1 = faceloc\n",
    "        cv2.rectangle(image, (x1, y1), (x2, y2), (0, 255, 0), 3)\n",
    "        cv2.putText(image, name, (x1, y1 - 10), cv2.FONT_HERSHEY_COMPLEX, 1, (0, 0, 255), 2)\n",
    "\n",
    "    cv2.imshow(\"Face Recognition\", image)\n",
    "\n",
    "    if cv2.waitKey(1) & 0xFF == ord('q'):\n",
    "        break\n",
    "\n",
    "Video.release()\n",
    "cv2.destroyAllWindows()\n",
    "\n",
    "print(\"Recognized people in this session:\", data_set)\n"
   ]
  },
  {
   "cell_type": "code",
   "execution_count": 26,
   "id": "78f4786f",
   "metadata": {},
   "outputs": [
    {
     "name": "stdout",
     "output_type": "stream",
     "text": [
      "{('ronaldo', '2025-06-18 19:49:24')}\n"
     ]
    }
   ],
   "source": [
    "latest_entry = {}\n",
    "\n",
    "for name, timestamp in data_set:\n",
    "    if name not in latest_entry or timestamp > latest_entry[name]:\n",
    "        latest_entry[name] = timestamp\n",
    "\n",
    "# Convert back to set of (name, timestamp)\n",
    "final_set = {(name, time) for name, time in latest_entry.items()}\n",
    "\n",
    "print(final_set)\n"
   ]
  },
  {
   "cell_type": "code",
   "execution_count": 27,
   "id": "51d8ef8e",
   "metadata": {},
   "outputs": [
    {
     "name": "stdout",
     "output_type": "stream",
     "text": [
      "CSV file saved: recognized_people.csv\n"
     ]
    }
   ],
   "source": [
    "with open(\"recognized_people11.csv\", mode=\"w\", newline=\"\") as file:\n",
    "    writer = csv.writer(file)\n",
    "    writer.writerow([\"Name\", \"Timestamp\"])  # header\n",
    "    writer.writerows(final_set)\n",
    "\n",
    "print(\"CSV file saved: recognized_people.csv\")"
   ]
  }
 ],
 "metadata": {
  "kernelspec": {
   "display_name": "Python 3",
   "language": "python",
   "name": "python3"
  },
  "language_info": {
   "codemirror_mode": {
    "name": "ipython",
    "version": 3
   },
   "file_extension": ".py",
   "mimetype": "text/x-python",
   "name": "python",
   "nbconvert_exporter": "python",
   "pygments_lexer": "ipython3",
   "version": "3.8.0"
  }
 },
 "nbformat": 4,
 "nbformat_minor": 5
}
