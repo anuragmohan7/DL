{
 "cells": [
  {
   "cell_type": "code",
   "execution_count": 5,
   "id": "bc037de8",
   "metadata": {},
   "outputs": [],
   "source": [
    "import cv2\n",
    "import mediapipe as mp"
   ]
  },
  {
   "cell_type": "code",
   "execution_count": 6,
   "id": "7e55c21f",
   "metadata": {},
   "outputs": [],
   "source": [
    "mp_pose=mp.solutions.pose\n",
    "mp_drawing=mp.solutions.drawing_utils"
   ]
  },
  {
   "cell_type": "code",
   "execution_count": 7,
   "id": "b6790649",
   "metadata": {},
   "outputs": [],
   "source": [
    "pose=mp_pose.Pose()"
   ]
  },
  {
   "cell_type": "code",
   "execution_count": 8,
   "id": "b913af7a",
   "metadata": {},
   "outputs": [],
   "source": [
    "\n",
    "video = cv2.VideoCapture(0)  \n",
    "while True:\n",
    "    success, image = video.read()\n",
    "    if not success:\n",
    "        print(\"Failed to capture video\")\n",
    "        break\n",
    "    \n",
    "    rgb_image = cv2.cvtColor(image, cv2.COLOR_BGR2RGB)\n",
    "\n",
    "    result = pose.process(rgb_image)\n",
    "    \n",
    "    if result.pose_landmarks:\n",
    "        mp_drawing.draw_landmarks(image,result.pose_landmarks, mp_pose.POSE_CONNECTIONS)\n",
    "\n",
    "    cv2.imshow(\"Face Mesh\", image)  \n",
    "\n",
    "    if cv2.waitKey(1) & 0xFF == ord('q'):\n",
    "        break\n",
    "\n",
    "video.release()  \n",
    "cv2.destroyAllWindows()  \n"
   ]
  }
 ],
 "metadata": {
  "kernelspec": {
   "display_name": "Python 3",
   "language": "python",
   "name": "python3"
  },
  "language_info": {
   "codemirror_mode": {
    "name": "ipython",
    "version": 3
   },
   "file_extension": ".py",
   "mimetype": "text/x-python",
   "name": "python",
   "nbconvert_exporter": "python",
   "pygments_lexer": "ipython3",
   "version": "3.8.0"
  }
 },
 "nbformat": 4,
 "nbformat_minor": 5
}
