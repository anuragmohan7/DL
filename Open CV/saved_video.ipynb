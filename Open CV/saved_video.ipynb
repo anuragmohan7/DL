{
 "cells": [
  {
   "cell_type": "code",
   "execution_count": 1,
   "id": "9414a277",
   "metadata": {},
   "outputs": [],
   "source": [
    "import cv2"
   ]
  },
  {
   "cell_type": "code",
   "execution_count": 3,
   "id": "53a715e7",
   "metadata": {},
   "outputs": [
    {
     "name": "stdout",
     "output_type": "stream",
     "text": [
      "finished\n"
     ]
    }
   ],
   "source": [
    "# video is a collection of images\n",
    "face = cv2.CascadeClassifier(cv2.data.haarcascades + 'haarcascade_frontalface_default.xml')\n",
    "\n",
    "video=cv2.VideoCapture('face_video.mp4')  # 0 is used to capture video from same webcam of device\n",
    "while True:\n",
    "\n",
    "    success,img=video.read() # read contains 2 variables, img ==> has video, success ==> success is not used in live it is used in saved video\n",
    "    if not success or img is None:\n",
    "        print(\"finished\")\n",
    "        break\n",
    "    gray_img=cv2.cvtColor(img,cv2.COLOR_BGR2GRAY) # convert BGR to GRAYSCALE, for better performance\n",
    "\n",
    "    faces=face.detectMultiScale(gray_img,minNeighbors=10) # #minNeighbors=10 is parameter used to improve performance,10 times machine cheks the face\n",
    "    for (x,y,w,h) in faces:\n",
    "        cv2.rectangle(img,(x,y),(x+w,y+h),(0,0,225),4)\n",
    "\n",
    "    cv2.imshow('video',img) #'video' is the window for video\n",
    "    if cv2.waitKey(1)&0XFF==ord('q'): # 0XFF==ord('q') ==> used when q is pressed loop breaks, ord('q')==> ascii of q\n",
    "        break\n",
    "video.release() # stop video\n",
    "cv2.destroyAllWindows()"
   ]
  }
 ],
 "metadata": {
  "kernelspec": {
   "display_name": "Python 3",
   "language": "python",
   "name": "python3"
  },
  "language_info": {
   "codemirror_mode": {
    "name": "ipython",
    "version": 3
   },
   "file_extension": ".py",
   "mimetype": "text/x-python",
   "name": "python",
   "nbconvert_exporter": "python",
   "pygments_lexer": "ipython3",
   "version": "3.12.6"
  }
 },
 "nbformat": 4,
 "nbformat_minor": 5
}
