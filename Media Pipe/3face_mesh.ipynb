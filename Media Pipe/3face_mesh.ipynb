{
 "cells": [
  {
   "cell_type": "code",
   "execution_count": 1,
   "id": "445d1302",
   "metadata": {},
   "outputs": [],
   "source": [
    "import cv2\n",
    "import mediapipe as mp"
   ]
  },
  {
   "cell_type": "code",
   "execution_count": 2,
   "id": "015d2aaa",
   "metadata": {},
   "outputs": [],
   "source": [
    "#modules\n",
    "mp_face_mesh = mp.solutions.face_mesh\n",
    "mp_drawing=mp.solutions.drawing_utils"
   ]
  },
  {
   "cell_type": "code",
   "execution_count": 3,
   "id": "44596793",
   "metadata": {},
   "outputs": [],
   "source": [
    "face_mesh = mp_face_mesh.FaceMesh()\n"
   ]
  },
  {
   "cell_type": "code",
   "execution_count": 4,
   "id": "c2f395af",
   "metadata": {},
   "outputs": [],
   "source": [
    "\n",
    "# Start capturing video\n",
    "Video = cv2.VideoCapture(0)\n",
    "\n",
    "while True:\n",
    "    success, image = Video.read()\n",
    "    if not success:\n",
    "        break\n",
    "\n",
    "    rgb_image = cv2.cvtColor(image, cv2.COLOR_BGR2RGB)\n",
    "    \n",
    "    result = face_mesh.process(rgb_image)\n",
    "    \n",
    "    if result.multi_face_landmarks:\n",
    "        for face_landmarks in result.multi_face_landmarks:\n",
    "            mp_drawing.draw_landmarks(image,face_landmarks)\n",
    "\n",
    "    cv2.imshow(\"Face Mesh\", image)\n",
    "    if cv2.waitKey(1) & 0xFF == ord('q'):\n",
    "        break\n",
    "\n",
    "Video.release()\n",
    "cv2.destroyAllWindows()\n"
   ]
  }
 ],
 "metadata": {
  "kernelspec": {
   "display_name": "Python 3",
   "language": "python",
   "name": "python3"
  },
  "language_info": {
   "codemirror_mode": {
    "name": "ipython",
    "version": 3
   },
   "file_extension": ".py",
   "mimetype": "text/x-python",
   "name": "python",
   "nbconvert_exporter": "python",
   "pygments_lexer": "ipython3",
   "version": "3.8.0"
  }
 },
 "nbformat": 4,
 "nbformat_minor": 5
}
