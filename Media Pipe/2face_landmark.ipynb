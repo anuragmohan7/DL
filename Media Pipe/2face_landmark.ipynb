{
 "cells": [
  {
   "cell_type": "code",
   "execution_count": 1,
   "id": "77ff8646",
   "metadata": {},
   "outputs": [],
   "source": [
    "import cv2\n",
    "import mediapipe as mp"
   ]
  },
  {
   "cell_type": "code",
   "execution_count": 2,
   "id": "bc0af24c",
   "metadata": {},
   "outputs": [],
   "source": [
    "#modules\n",
    "mp_detect=mp.solutions.face_detection\n",
    "mp_drawing=mp.solutions.drawing_utils"
   ]
  },
  {
   "cell_type": "code",
   "execution_count": 3,
   "id": "adc48c2e",
   "metadata": {},
   "outputs": [],
   "source": [
    "face_detect=mp_detect.FaceDetection()"
   ]
  },
  {
   "cell_type": "code",
   "execution_count": 4,
   "id": "b82773aa",
   "metadata": {},
   "outputs": [],
   "source": [
    "# live video code\n",
    "\n",
    "Video = cv2.VideoCapture(0)\n",
    "\n",
    "while True:\n",
    "    success, image = Video.read()\n",
    "    if not success:\n",
    "        break\n",
    "\n",
    "    conv_img1 = cv2.cvtColor(image, cv2.COLOR_BGR2RGB)\n",
    "    result=face_detect.process(conv_img1)\n",
    "    # print(result.detections)\n",
    "    if result.detections:\n",
    "        for det in result.detections:\n",
    "            mp_drawing.draw_detection(image,det)# draw\n",
    "            \n",
    "\n",
    "\n",
    "\n",
    "\n",
    "    cv2.imshow(\"Image\", image)\n",
    "\n",
    "    if cv2.waitKey(1) & 0xFF == ord('q'):\n",
    "        break\n",
    "\n",
    "Video.release()\n",
    "cv2.destroyAllWindows()\n",
    "\n",
    "    "
   ]
  }
 ],
 "metadata": {
  "kernelspec": {
   "display_name": "Python 3",
   "language": "python",
   "name": "python3"
  },
  "language_info": {
   "codemirror_mode": {
    "name": "ipython",
    "version": 3
   },
   "file_extension": ".py",
   "mimetype": "text/x-python",
   "name": "python",
   "nbconvert_exporter": "python",
   "pygments_lexer": "ipython3",
   "version": "3.8.0"
  }
 },
 "nbformat": 4,
 "nbformat_minor": 5
}
