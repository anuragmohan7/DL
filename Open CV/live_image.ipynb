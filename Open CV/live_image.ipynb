{
 "cells": [
  {
   "cell_type": "code",
   "execution_count": 11,
   "id": "dc6a1934",
   "metadata": {},
   "outputs": [],
   "source": [
    "# LIVE IMAGE CAPTURE"
   ]
  },
  {
   "cell_type": "code",
   "execution_count": 2,
   "id": "a03ee667",
   "metadata": {},
   "outputs": [],
   "source": [
    "import cv2"
   ]
  },
  {
   "cell_type": "code",
   "execution_count": null,
   "id": "f7b8c8fb",
   "metadata": {},
   "outputs": [],
   "source": [
    "# face detection"
   ]
  },
  {
   "cell_type": "code",
   "execution_count": 9,
   "id": "8a8be3e9",
   "metadata": {},
   "outputs": [],
   "source": [
    "# video is a collection of images\n",
    "face = cv2.CascadeClassifier(cv2.data.haarcascades + 'haarcascade_frontalface_default.xml')\n",
    "\n",
    "video=cv2.VideoCapture(0)  # 0 is used to capture video from same webcam of device\n",
    "while True:\n",
    "    success,img=video.read() # read contains 2 variables, img ==> has video, success ==> success is not used in live it is used in saved video\n",
    "    gray_img=cv2.cvtColor(img,cv2.COLOR_BGR2GRAY) # convert BGR to GRAYSCALE, for better performance\n",
    "\n",
    "    faces=face.detectMultiScale(gray_img,minNeighbors=10) # #minNeighbors=10 is parameter used to improve performance,10 times machine cheks the face\n",
    "    for (x,y,w,h) in faces:\n",
    "        cv2.rectangle(img,(x,y),(x+w,y+h),(0,0,225),4)\n",
    "\n",
    "    cv2.imshow('video',img) #'video' is the window for video\n",
    "    if cv2.waitKey(1)&0XFF==ord('q'): # 0XFF==ord('q') ==> used when q is pressed loop breaks, ord('q')==> ascii of q\n",
    "        break\n",
    "video.release() # stop video\n",
    "cv2.destroyAllWindows()"
   ]
  },
  {
   "cell_type": "code",
   "execution_count": null,
   "id": "122a5797",
   "metadata": {},
   "outputs": [],
   "source": [
    "# eye detection"
   ]
  },
  {
   "cell_type": "code",
   "execution_count": 23,
   "id": "40e3ec5a",
   "metadata": {},
   "outputs": [],
   "source": [
    "import cv2\n",
    "eye = cv2.CascadeClassifier(cv2.data.haarcascades + 'haarcascade_eye.xml')\n",
    "\n",
    "# Start video capture\n",
    "video = cv2.VideoCapture(0)\n",
    "\n",
    "while True:\n",
    "    success, img = video.read()\n",
    "    gray_img = cv2.cvtColor(img, cv2.COLOR_BGR2GRAY)\n",
    "\n",
    "    # Detect eyes\n",
    "    eyes = eye.detectMultiScale(gray_img,minNeighbors=10)\n",
    "\n",
    "    for (x, y, w, h) in eyes:\n",
    "        cv2.rectangle(img, (x, y), (x+w,y+h), (0, 255, 0), 2)\n",
    "\n",
    "    cv2.imshow('Video',img)\n",
    "    if cv2.waitKey(1) & 0xFF == ord('q'):\n",
    "        break\n",
    "\n",
    "video.release()\n",
    "cv2.destroyAllWindows()\n"
   ]
  },
  {
   "cell_type": "code",
   "execution_count": null,
   "id": "2244d27c",
   "metadata": {},
   "outputs": [],
   "source": [
    "# EYE INSIDE FACE"
   ]
  },
  {
   "cell_type": "code",
   "execution_count": 17,
   "id": "c400ae7e",
   "metadata": {},
   "outputs": [],
   "source": [
    "import cv2\n",
    "\n",
    "# Load cascades\n",
    "face_cascade = cv2.CascadeClassifier(cv2.data.haarcascades + 'haarcascade_frontalface_default.xml')\n",
    "eye_cascade = cv2.CascadeClassifier(cv2.data.haarcascades + 'haarcascade_eye.xml')\n",
    "\n",
    "# Start video capture\n",
    "video = cv2.VideoCapture(0)\n",
    "\n",
    "while True:\n",
    "    success, img = video.read()\n",
    "    gray_img = cv2.cvtColor(img, cv2.COLOR_BGR2GRAY)\n",
    "\n",
    "    # Detect faces\n",
    "    faces = face_cascade.detectMultiScale(gray_img)\n",
    "\n",
    "    for (x, y, w, h) in faces:\n",
    "        # Draw face rectangle\n",
    "        cv2.rectangle(img, (x, y), (x+w, y+h), (0, 0, 255), 2)\n",
    "\n",
    "        # Region of interest for eyes\n",
    "        roi_gray = gray_img[y:y+h, x:x+w]\n",
    "        roi_color = img[y:y+h, x:x+w]\n",
    "\n",
    "        # Detect eyes within the face region\n",
    "        eyes = eye_cascade.detectMultiScale(roi_gray)\n",
    "\n",
    "        for (ex, ey, ew, eh) in eyes:\n",
    "            cv2.rectangle(roi_color, (ex, ey), (ex+ew, ey+eh), (0, 255, 0), 2)\n",
    "\n",
    "    cv2.imshow('Video', img)\n",
    "\n",
    "    if cv2.waitKey(1) & 0xFF == ord('q'):\n",
    "        break\n",
    "\n",
    "video.release()\n",
    "cv2.destroyAllWindows()\n"
   ]
  }
 ],
 "metadata": {
  "kernelspec": {
   "display_name": "Python 3",
   "language": "python",
   "name": "python3"
  },
  "language_info": {
   "codemirror_mode": {
    "name": "ipython",
    "version": 3
   },
   "file_extension": ".py",
   "mimetype": "text/x-python",
   "name": "python",
   "nbconvert_exporter": "python",
   "pygments_lexer": "ipython3",
   "version": "3.12.6"
  }
 },
 "nbformat": 4,
 "nbformat_minor": 5
}
